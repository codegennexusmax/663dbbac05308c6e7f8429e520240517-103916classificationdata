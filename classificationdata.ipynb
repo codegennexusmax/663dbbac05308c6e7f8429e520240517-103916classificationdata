{
 "cells": [
  {
   "cell_type": "markdown",
   "id": "768f8330",
   "metadata": {},
   "source": [
    "***GENERATED CODE FOR classificationdata PIPELINE.***"
   ]
  },
  {
   "cell_type": "markdown",
   "id": "91d64ed0",
   "metadata": {},
   "source": [
    "***DON'T EDIT THIS CODE.***"
   ]
  },
  {
   "cell_type": "markdown",
   "id": "d98c9914",
   "metadata": {},
   "source": [
    "***CONNECTOR FUNCTIONS TO READ DATA.***"
   ]
  },
  {
   "cell_type": "code",
   "execution_count": null,
   "id": "776743cd",
   "metadata": {},
   "outputs": [],
   "source": [
    "import os\n",
    "import datetime\n",
    "import logging\n",
    "import warnings\n",
    "warnings.filterwarnings('ignore')\n",
    "logging.basicConfig(format='%(levelname)s:%(message)s', level=logging.INFO)\n",
    "\n",
    "\n",
    "class HDFSConnector:\n",
    "\n",
    "    def fetch(spark, config):\n",
    "        ################### INPUT HADOOP HOST PORT TO CONNECT WITH ###############################\n",
    "        hdfs_server = str(os.environ['HDFS_SERVER'])\n",
    "        hdfs_port = int(os.environ['HDFS_PORT'])\n",
    "        df = spark.read.options(header='true', inferschema='true').csv(\n",
    "            f\"hdfs://{hdfs_server}:{hdfs_port}{eval(config)['url']}\", header='true')\n",
    "        display(df.limit(2).toPandas())\n",
    "        return df\n",
    "\n",
    "    def put(df, spark, config):\n",
    "        return df.write.format('csv').options(header='true' if eval(config)[\"is_header\"] == \"Use Header Line\" else 'false',\n",
    "                                              delimiter=eval(config)[\"delimiter\"]).save((\"%s %s\") % (datetime.datetime.now().strftime(\"%Y-%m-%d %H.%M.%S\")+\"_\", eval(config)['url']))\n"
   ]
  },
  {
   "cell_type": "markdown",
   "id": "59b59266",
   "metadata": {},
   "source": [
    "***OPERATION FUNCTIONS***"
   ]
  },
  {
   "cell_type": "code",
   "execution_count": null,
   "id": "bfc8a4a9",
   "metadata": {},
   "outputs": [],
   "source": [
    "import pyspark\n",
    "from dask.dataframe import from_pandas\n",
    "import json\n",
    "\n",
    "\n",
    "def SortData(df, functionsData, applyOn=[]):\n",
    "    for functiondata in functionsData:\n",
    "        coldetail = functiondata['column']\n",
    "        sortdetails = functiondata['order']\n",
    "        for col in coldetail:\n",
    "            colname = col['columnName']\n",
    "    if sortdetails == \"asc\":\n",
    "        SortReq = True\n",
    "    else:\n",
    "        SortReq = False\n",
    "\n",
    "    df = df.set_index(colname)\n",
    "    #df = df.sort_values(by = colname, ascending=SortReq)\n",
    "\n",
    "    df = df.map_partitions(lambda df: df.sort_values(\n",
    "        [colname], ascending=SortReq)).reset_index()\n",
    "\n",
    "    return df\n",
    "\n",
    "\n",
    "def runDataCleansing(sparkDf, spark, config):\n",
    "    configObj = json.loads(config)\n",
    "    sparkDf.persist(pyspark.StorageLevel.MEMORY_AND_DISK)\n",
    "    df = from_pandas((sparkDf.toPandas()), npartitions=5)\n",
    "    functionList = configObj['functionsApplied']\n",
    "    Data_Cleansing_Methods = {\"replaceBy\": replaceValues,\n",
    "                              \"formula\": calculateFormula,\n",
    "                              \"aggregate\": aggregation,\n",
    "                              \"converttostringtype\": changeToString,\n",
    "                              \"editname\": renameColumns}\n",
    "    for function in functionList:\n",
    "        function['functionName']\n",
    "        df = Data_Cleansing_Methods[function['functionName']](df, function['functionsData'],\n",
    "                                                              function['applyOn'])\n",
    "    sparkDf = spark.createDataFrame(df.compute())\n",
    "\n",
    "    display(sparkDf.limit(2).toPandas())\n",
    "    return sparkDf\n"
   ]
  },
  {
   "cell_type": "markdown",
   "id": "a3accb59",
   "metadata": {},
   "source": [
    "***CONNECTOR FUNCTIONS TO WRITE DATA.***"
   ]
  },
  {
   "cell_type": "code",
   "execution_count": null,
   "id": "abb0dd14",
   "metadata": {},
   "outputs": [],
   "source": [
    "import datetime\n",
    "import requests\n",
    "import datetime\n",
    "import logging\n",
    "import warnings\n",
    "warnings.filterwarnings('ignore')\n",
    "logging.basicConfig(format='%(levelname)s:%(message)s', level=logging.INFO)\n",
    "\n",
    "\n",
    "class NumtraConnector:\n",
    "\n",
    "    def put(inStages, inStagesData, stageId, spark, config):\n",
    "        path = eval(config)['server_url']\n",
    "        baseType = eval(config)['baseType']\n",
    "        results_url = eval(config)['results_url']\n",
    "        server = eval(config)['server']\n",
    "        originalfile = eval(config)['orignalKey']\n",
    "        eval(config)['pathOnly']\n",
    "        filename = eval(config)['filename']\n",
    "        eval(config)['ser']\n",
    "        eval(config)['user']\n",
    "        eval(config)['password']\n",
    "        eval(config)['authSource']\n",
    "        eval(config)['user_id']\n",
    "        eval(config)['parent_id']\n",
    "        eval(config)['project_id']\n",
    "        time = str(int(datetime.datetime.now().timestamp()))\n",
    "\n",
    "        inStagesData[inStages[0]]\n",
    "\n",
    "        print(path)\n",
    "        print(baseType)\n",
    "        print(results_url)\n",
    "        print(server)\n",
    "        print(originalfile)\n",
    "        print(filename)\n",
    "\n",
    "        args = {\n",
    "            'url': path,\n",
    "            'baseType': baseType,\n",
    "            'originalfile': originalfile,\n",
    "            'filename': time + filename\n",
    "        }\n",
    "\n",
    "        response = requests.post(results_url, args)\n",
    "        return response\n"
   ]
  },
  {
   "cell_type": "markdown",
   "id": "0db8c627",
   "metadata": {},
   "source": [
    "***READING DATAFRAME***"
   ]
  },
  {
   "cell_type": "code",
   "execution_count": null,
   "id": "3c93308a",
   "metadata": {},
   "outputs": [],
   "source": [
    "############## CREATE SPARK SESSION ############################ ENTER YOUR SPARK MASTER IP AND PORT TO CONNECT TO SERVER ################\n",
    "from pyspark.sql import SparkSession\n",
    "spark = SparkSession.builder.master('local[1]').getOrCreate()\n",
    "#%run classificationdataHooks.ipynb\n",
    "try:\n",
    "\t#sourcePreExecutionHook()\n",
    "\n",
    "\ttelcocutomerchurnhitorycysd = HDFSConnector.fetch(spark, \"{'url': '/FileStore/platform/testdata/1715325972082_Telco_Customer_Churn_History.csv', 'filename': 'Telco_Customer_Churn_History.csv', 'delimiter': ',', 'file_type': 'Delimeted', 'dbfs_token': '', 'dbfs_domain': '', 'FilePath': '/DNM_TESTING 9th May/Test data/Telco_Customer_Churn_History.csv', 'viewFileName': 'Telco_Customer_Churn_History.csv', 'is_header': 'Use Header Line', 'baseType': 'hdfs', 'server_url': '/nexusMax/NexusMaxPlatform/uploads/platform/', 'results_url': 'http://dnm.bfirst.ai:44040/api/read/hdfs'}\")\n",
    "\n",
    "except Exception as ex: \n",
    "\tlogging.error(ex)\n",
    "#spark.stop()\n"
   ]
  },
  {
   "cell_type": "markdown",
   "id": "0a2ad49d",
   "metadata": {},
   "source": [
    "***PERFORMING OPERATIONS***"
   ]
  },
  {
   "cell_type": "code",
   "execution_count": null,
   "id": "fe7ecb8d",
   "metadata": {},
   "outputs": [],
   "source": [
    "#%run classificationdataHooks.ipynb\n",
    "try:\n",
    "\t#operationPreExecutionHook()\n",
    "\n",
    "datapreparation = runDataCleansing(telcocutomerchurnhitorycysd,spark,json.dumps( {\"url\": \"/FileStore/platform/testdata/1715325972082_Telco_Customer_Churn_History.csv\", \"source_attributes\": {}, \"DataPrepFile\": \"/FileStore/platform/testdata/1715325972082_Telco_Customer_Churn_History.csv\", \"data_source\": \"platfiles\", \"startListenerOnly\": 1, \"dateColumnNames\": [], \"FilePath\": \"/FileStore/platform/extra/66472ae7a83910f2427cc4881715942245/0part.csv\", \"requestRatio\": 14.0, \"totalRows\": 7043, \"BasicStats\": {\"missingValues\": 0.0, \"numberOfColumns\": 21, \"numberOfRows\": 7043, \"duplicateRowCount\": 0, \"stats\": [{\"column\": \"customerID\", \"alias\": \"customerID\", \"generated\": 0, \"type\": \"String\", \"max\": \"9995-HOTOH\", \"min\": \"0002-ORFBO\", \"mean\": \"\", \"missing\": 0.0, \"stddev\": \"\", \"outliers\": [], \"validation\": []}, {\"column\": \"gender\", \"alias\": \"gender\", \"generated\": 0, \"type\": \"String\", \"max\": \"Male\", \"min\": \"Female\", \"mean\": \"\", \"missing\": 0.0, \"stddev\": \"\", \"outliers\": [], \"validation\": []}, {\"column\": \"SeniorCitizen\", \"alias\": \"SeniorCitizen\", \"generated\": 0, \"type\": \"numeric\", \"max\": 1, \"min\": 0, \"mean\": 0.1621468124378816, \"missing\": 0.0, \"stddev\": 0.37, \"outliers\": [1, 1, 1, 1, 1, 1, 1, 1, 1, 1, 1, 1, 1, 1, 1, 1, 1, 1, 1, 1, 1, 1, 1, 1, 1, 1, 1, 1, 1, 1, 1, 1, 1, 1, 1, 1, 1, 1, 1, 1, 1, 1, 1, 1, 1, 1, 1, 1, 1, 1, 1, 1, 1, 1, 1, 1, 1, 1, 1, 1, 1, 1, 1, 1, 1, 1, 1, 1, 1, 1, 1, 1, 1, 1, 1, 1, 1, 1, 1, 1, 1, 1, 1, 1, 1, 1, 1, 1, 1, 1, 1, 1, 1, 1, 1, 1, 1, 1, 1, 1, 1, 1, 1, 1, 1, 1, 1, 1, 1, 1, 1, 1, 1, 1, 1, 1, 1, 1, 1, 1, 1, 1, 1, 1, 1, 1, 1, 1, 1, 1, 1, 1, 1, 1, 1, 1, 1, 1, 1, 1, 1, 1, 1, 1, 1, 1, 1, 1, 1, 1, 1, 1, 1, 1, 1, 1, 1, 1, 1, 1, 1, 1, 1, 1, 1, 1, 1, 1, 1, 1, 1, 1, 1, 1, 1, 1, 1, 1, 1, 1, 1, 1, 1, 1, 1, 1, 1, 1, 1, 1, 1, 1, 1, 1, 1, 1, 1, 1, 1, 1, 1, 1, 1, 1, 1, 1, 1, 1, 1, 1, 1, 1, 1, 1, 1, 1, 1, 1, 1, 1, 1, 1, 1, 1, 1, 1, 1, 1, 1, 1, 1, 1, 1, 1, 1, 1, 1, 1, 1, 1, 1, 1, 1, 1, 1, 1, 1, 1, 1, 1, 1, 1, 1, 1, 1, 1, 1, 1, 1, 1, 1, 1, 1, 1, 1, 1, 1, 1, 1, 1, 1, 1, 1, 1, 1, 1, 1, 1, 1, 1, 1, 1, 1, 1, 1, 1, 1, 1, 1, 1, 1, 1, 1, 1, 1, 1, 1, 1, 1, 1, 1, 1, 1, 1, 1, 1, 1, 1, 1, 1, 1, 1, 1, 1, 1, 1, 1, 1, 1, 1, 1, 1, 1, 1, 1, 1, 1, 1, 1, 1, 1, 1, 1, 1, 1, 1, 1, 1, 1, 1, 1, 1, 1, 1, 1, 1, 1, 1, 1, 1, 1, 1, 1, 1, 1, 1, 1, 1, 1, 1, 1, 1, 1, 1, 1, 1, 1, 1, 1, 1, 1, 1, 1, 1, 1, 1, 1, 1, 1, 1, 1, 1, 1, 1, 1, 1, 1, 1, 1, 1, 1, 1, 1, 1, 1, 1, 1, 1, 1, 1, 1, 1, 1, 1, 1, 1, 1, 1, 1, 1, 1, 1, 1, 1, 1, 1, 1, 1, 1, 1, 1, 1, 1, 1, 1, 1, 1, 1, 1, 1, 1, 1, 1, 1, 1, 1, 1, 1, 1, 1, 1, 1, 1, 1, 1, 1, 1, 1, 1, 1, 1, 1, 1, 1, 1, 1, 1, 1, 1, 1, 1, 1, 1, 1, 1, 1, 1, 1, 1, 1, 1, 1, 1, 1, 1, 1, 1, 1, 1, 1, 1, 1, 1, 1, 1, 1, 1, 1, 1, 1, 1, 1, 1, 1, 1, 1, 1, 1, 1, 1, 1, 1, 1, 1, 1, 1, 1, 1, 1, 1, 1, 1, 1, 1, 1, 1, 1, 1, 1, 1, 1, 1, 1, 1, 1, 1, 1, 1, 1, 1, 1, 1, 1, 1, 1, 1, 1, 1, 1, 1, 1, 1, 1, 1, 1, 1, 1, 1, 1, 1, 1, 1, 1, 1, 1, 1, 1, 1, 1, 1, 1, 1, 1, 1, 1, 1, 1, 1, 1, 1, 1, 1, 1, 1, 1, 1, 1, 1, 1, 1, 1, 1, 1, 1, 1, 1, 1, 1, 1, 1, 1, 1, 1, 1, 1, 1, 1, 1, 1, 1, 1, 1, 1, 1, 1, 1, 1, 1, 1, 1, 1, 1, 1, 1, 1, 1, 1, 1, 1, 1, 1, 1, 1, 1, 1, 1, 1, 1, 1, 1, 1, 1, 1, 1, 1, 1, 1, 1, 1, 1, 1, 1, 1, 1, 1, 1, 1, 1, 1, 1, 1, 1, 1, 1, 1, 1, 1, 1, 1, 1, 1, 1, 1, 1, 1, 1, 1, 1, 1, 1, 1, 1, 1, 1, 1, 1, 1, 1, 1, 1, 1, 1, 1, 1, 1, 1, 1, 1, 1, 1, 1, 1, 1, 1, 1, 1, 1, 1, 1, 1, 1, 1, 1, 1, 1, 1, 1, 1, 1, 1, 1, 1, 1, 1, 1, 1, 1, 1, 1, 1, 1, 1, 1, 1, 1, 1, 1, 1, 1, 1, 1, 1, 1, 1, 1, 1, 1, 1, 1, 1, 1, 1, 1, 1, 1, 1, 1, 1, 1, 1, 1, 1, 1, 1, 1, 1, 1, 1, 1, 1, 1, 1, 1, 1, 1, 1, 1, 1, 1, 1, 1, 1, 1, 1, 1, 1, 1, 1, 1, 1, 1, 1, 1, 1, 1, 1, 1, 1, 1, 1, 1, 1, 1, 1, 1, 1, 1, 1, 1, 1, 1, 1, 1, 1, 1, 1, 1, 1, 1, 1, 1, 1, 1, 1, 1, 1, 1, 1, 1, 1, 1, 1, 1, 1, 1, 1, 1, 1, 1, 1, 1, 1, 1, 1, 1, 1, 1, 1, 1, 1, 1, 1, 1, 1, 1, 1, 1, 1, 1, 1, 1, 1, 1, 1, 1, 1, 1, 1, 1, 1, 1, 1, 1, 1, 1, 1, 1, 1, 1, 1, 1, 1, 1, 1, 1, 1, 1, 1, 1, 1, 1, 1, 1, 1, 1, 1, 1, 1, 1, 1, 1, 1, 1, 1, 1, 1, 1, 1, 1, 1, 1, 1, 1, 1, 1, 1, 1, 1, 1, 1, 1, 1, 1, 1, 1, 1, 1, 1, 1, 1, 1, 1, 1, 1, 1, 1, 1, 1, 1, 1, 1, 1, 1, 1, 1, 1, 1, 1, 1, 1, 1, 1, 1, 1, 1, 1, 1, 1, 1, 1, 1, 1, 1, 1, 1, 1, 1, 1, 1, 1, 1, 1, 1, 1, 1, 1, 1, 1, 1, 1, 1, 1, 1, 1, 1, 1, 1, 1, 1, 1, 1, 1, 1, 1, 1, 1, 1, 1, 1, 1, 1, 1, 1, 1, 1, 1, 1, 1, 1, 1, 1, 1, 1, 1, 1, 1, 1, 1, 1, 1, 1, 1, 1, 1, 1, 1, 1, 1, 1, 1, 1, 1, 1, 1, 1, 1, 1, 1, 1, 1, 1, 1, 1, 1, 1, 1, 1, 1, 1, 1, 1, 1, 1, 1, 1, 1, 1, 1, 1, 1, 1, 1, 1, 1, 1, 1, 1, 1, 1, 1, 1, 1, 1, 1, 1, 1, 1, 1, 1, 1, 1, 1, 1, 1, 1, 1, 1, 1, 1, 1, 1, 1, 1, 1, 1, 1, 1, 1, 1, 1, 1, 1, 1, 1, 1, 1, 1, 1, 1, 1, 1, 1, 1, 1, 1, 1, 1, 1, 1, 1, 1, 1, 1, 1, 1, 1, 1, 1, 1, 1, 1, 1, 1, 1, 1, 1, 1, 1, 1, 1, 1, 1, 1, 1, 1, 1, 1, 1, 1, 1, 1, 1], \"validation\": []}, {\"column\": \"Partner\", \"alias\": \"Partner\", \"generated\": 0, \"type\": \"String\", \"max\": \"Yes\", \"min\": \"No\", \"mean\": \"\", \"missing\": 0.0, \"stddev\": \"\", \"outliers\": [], \"validation\": []}, {\"column\": \"Dependents\", \"alias\": \"Dependents\", \"generated\": 0, \"type\": \"String\", \"max\": \"Yes\", \"min\": \"No\", \"mean\": \"\", \"missing\": 0.0, \"stddev\": \"\", \"outliers\": [], \"validation\": []}, {\"column\": \"tenure\", \"alias\": \"tenure\", \"generated\": 0, \"type\": \"numeric\", \"max\": 72, \"min\": 0, \"mean\": 32.37114865824223, \"missing\": 0.0, \"stddev\": 24.56, \"outliers\": [], \"validation\": []}, {\"column\": \"PhoneService\", \"alias\": \"PhoneService\", \"generated\": 0, \"type\": \"String\", \"max\": \"Yes\", \"min\": \"No\", \"mean\": \"\", \"missing\": 0.0, \"stddev\": \"\", \"outliers\": [], \"validation\": []}, {\"column\": \"MultipleLines\", \"alias\": \"MultipleLines\", \"generated\": 0, \"type\": \"String\", \"max\": \"Yes\", \"min\": \"No\", \"mean\": \"\", \"missing\": 0.0, \"stddev\": \"\", \"outliers\": [], \"validation\": []}, {\"column\": \"InternetService\", \"alias\": \"InternetService\", \"generated\": 0, \"type\": \"String\", \"max\": \"No\", \"min\": \"DSL\", \"mean\": \"\", \"missing\": 0.0, \"stddev\": \"\", \"outliers\": [], \"validation\": []}, {\"column\": \"OnlineSecurity\", \"alias\": \"OnlineSecurity\", \"generated\": 0, \"type\": \"String\", \"max\": \"Yes\", \"min\": \"No\", \"mean\": \"\", \"missing\": 0.0, \"stddev\": \"\", \"outliers\": [], \"validation\": []}, {\"column\": \"OnlineBackup\", \"alias\": \"OnlineBackup\", \"generated\": 0, \"type\": \"String\", \"max\": \"Yes\", \"min\": \"No\", \"mean\": \"\", \"missing\": 0.0, \"stddev\": \"\", \"outliers\": [], \"validation\": []}, {\"column\": \"DeviceProtection\", \"alias\": \"DeviceProtection\", \"generated\": 0, \"type\": \"String\", \"max\": \"Yes\", \"min\": \"No\", \"mean\": \"\", \"missing\": 0.0, \"stddev\": \"\", \"outliers\": [], \"validation\": []}, {\"column\": \"TechSupport\", \"alias\": \"TechSupport\", \"generated\": 0, \"type\": \"String\", \"max\": \"Yes\", \"min\": \"No\", \"mean\": \"\", \"missing\": 0.0, \"stddev\": \"\", \"outliers\": [], \"validation\": []}, {\"column\": \"StreamingTV\", \"alias\": \"StreamingTV\", \"generated\": 0, \"type\": \"String\", \"max\": \"Yes\", \"min\": \"No\", \"mean\": \"\", \"missing\": 0.0, \"stddev\": \"\", \"outliers\": [], \"validation\": []}, {\"column\": \"StreamingMovies\", \"alias\": \"StreamingMovies\", \"generated\": 0, \"type\": \"String\", \"max\": \"Yes\", \"min\": \"No\", \"mean\": \"\", \"missing\": 0.0, \"stddev\": \"\", \"outliers\": [], \"validation\": []}, {\"column\": \"Contract\", \"alias\": \"Contract\", \"generated\": 0, \"type\": \"String\", \"max\": \"Two year\", \"min\": \"Month-to-month\", \"mean\": \"\", \"missing\": 0.0, \"stddev\": \"\", \"outliers\": [], \"validation\": []}, {\"column\": \"PaperlessBilling\", \"alias\": \"PaperlessBilling\", \"generated\": 0, \"type\": \"String\", \"max\": \"Yes\", \"min\": \"No\", \"mean\": \"\", \"missing\": 0.0, \"stddev\": \"\", \"outliers\": [], \"validation\": []}, {\"column\": \"PaymentMethod\", \"alias\": \"PaymentMethod\", \"generated\": 0, \"type\": \"String\", \"max\": \"Mailed check\", \"min\": \"Bank transfer (automatic)\", \"mean\": \"\", \"missing\": 0.0, \"stddev\": \"\", \"outliers\": [], \"validation\": []}, {\"column\": \"MonthlyCharges\", \"alias\": \"MonthlyCharges\", \"generated\": 0, \"type\": \"real\", \"max\": 118.75, \"min\": 18.25, \"mean\": 64.76169246059918, \"missing\": 0.0, \"stddev\": 30.09, \"outliers\": [], \"validation\": []}, {\"column\": \"TotalCharges\", \"alias\": \"TotalCharges\", \"generated\": 0, \"type\": \"real\", \"max\": 8684.8, \"min\": 18.8, \"mean\": 2283.300440841866, \"missing\": 0.2, \"stddev\": 2266.77, \"outliers\": [8041.65, 8046.85, 8058.55, 8058.85, 8061.5, 8065.65, 8071.05, 8075.35, 8078.1, 8086.4, 8093.15, 8100.25, 8100.55, 8109.8, 8124.2, 8126.65, 8127.6, 8129.3, 8152.3, 8164.1, 8165.1, 8166.8, 8175.9, 8182.75, 8182.85, 8192.6, 8196.4, 8220.4, 8240.85, 8244.3, 8248.5, 8250.0, 8277.05, 8289.2, 8297.5, 8306.05, 8308.9, 8309.55, 8310.55, 8312.4, 8312.75, 8317.95, 8331.95, 8332.15, 8333.95, 8337.45, 8349.45, 8349.7, 8375.05, 8399.15, 8404.9, 8405.0, 8424.9, 8425.15, 8425.3, 8436.25, 8443.7, 8456.75, 8468.2, 8476.5, 8477.6, 8477.7, 8496.7, 8529.5, 8543.25, 8547.15, 8564.75, 8594.4, 8670.1, 8672.45, 8684.8], \"validation\": []}, {\"column\": \"Churn\", \"alias\": \"Churn\", \"generated\": 0, \"type\": \"String\", \"max\": \"Yes\", \"min\": \"No\", \"mean\": \"\", \"missing\": 0.0, \"stddev\": \"\", \"outliers\": [], \"validation\": []}]}, \"predictionPowerScore\": [{\"Churn\": 1.0, \"Contract\": 1.628e-07, \"Dependents\": 1.628e-07, \"DeviceProtection\": 1.628e-07, \"InternetService\": 1.628e-07, \"MonthlyCharges\": 0.1159716232, \"MultipleLines\": 1.628e-07, \"OnlineBackup\": 1.628e-07, \"OnlineSecurity\": 1.628e-07, \"PaperlessBilling\": 1.628e-07, \"Partner\": 1.628e-07, \"PaymentMethod\": 1.628e-07, \"PhoneService\": 1.628e-07, \"SeniorCitizen\": 1.628e-07, \"StreamingMovies\": 1.628e-07, \"StreamingTV\": 1.628e-07, \"TechSupport\": 1.628e-07, \"TotalCharges\": 0.0704908233, \"customerID\": 0.0, \"gender\": 1.628e-07, \"tenure\": 0.2767291846}, {\"Churn\": 0.0, \"Contract\": 1.0, \"Dependents\": 0.0863324992, \"DeviceProtection\": 0.1382114615, \"InternetService\": 0.1382114615, \"MonthlyCharges\": 0.1434391714, \"MultipleLines\": 0.0, \"OnlineBackup\": 0.1382114615, \"OnlineSecurity\": 0.1454556628, \"PaperlessBilling\": 0.0, \"Partner\": 0.0, \"PaymentMethod\": 0.1197570457, \"PhoneService\": 0.0, \"SeniorCitizen\": 0.0, \"StreamingMovies\": 0.1382114615, \"StreamingTV\": 0.1382114615, \"TechSupport\": 0.2148464363, \"TotalCharges\": 0.1781074836, \"customerID\": 0.0, \"gender\": 0.0, \"tenure\": 0.4149526639}, {\"Churn\": 0.0, \"Contract\": 0.0, \"Dependents\": 1.0, \"DeviceProtection\": 0.0, \"InternetService\": 0.0, \"MonthlyCharges\": 0.0327842862, \"MultipleLines\": 0.0, \"OnlineBackup\": 0.0, \"OnlineSecurity\": 0.0, \"PaperlessBilling\": 0.0, \"Partner\": 0.3311515194, \"PaymentMethod\": 0.0, \"PhoneService\": 0.0, \"SeniorCitizen\": 0.0, \"StreamingMovies\": 0.0, \"StreamingTV\": 0.0, \"TechSupport\": 0.0, \"TotalCharges\": 0.0109589686, \"customerID\": 0.0, \"gender\": 0.0, \"tenure\": 0.0}, {\"Churn\": 0.0377736991, \"Contract\": 0.1932892146, \"Dependents\": 0.022122776, \"DeviceProtection\": 1.0, \"InternetService\": 0.2654794092, \"MonthlyCharges\": 0.5014260068, \"MultipleLines\": 0.0533321535, \"OnlineBackup\": 0.5097740887, \"OnlineSecurity\": 0.502203439, \"PaperlessBilling\": 0.0002957153, \"Partner\": 0.0817541171, \"PaymentMethod\": 0.218875137, \"PhoneService\": 0.0, \"SeniorCitizen\": 0.0, \"StreamingMovies\": 0.557747267, \"StreamingTV\": 0.5535850803, \"TechSupport\": 0.5455716589, \"TotalCharges\": 0.2246032498, \"customerID\": 0.0, \"gender\": 0.0, \"tenure\": 0.1676070346}, {\"Churn\": 0.0563044291, \"Contract\": 0.1228791904, \"Dependents\": 0.0316151439, \"DeviceProtection\": 0.2615349376, \"InternetService\": 1.0, \"MonthlyCharges\": 0.7664640942, \"MultipleLines\": 0.2690422525, \"OnlineBackup\": 0.2615349376, \"OnlineSecurity\": 0.526310849, \"PaperlessBilling\": 0.0867111019, \"Partner\": 0.0, \"PaymentMethod\": 0.1122016125, \"PhoneService\": 0.1064904518, \"SeniorCitizen\": 0.0, \"StreamingMovies\": 0.4795368854, \"StreamingTV\": 0.4759789357, \"TechSupport\": 0.5231943464, \"TotalCharges\": 0.1998105434, \"customerID\": 0.0, \"gender\": 0.0, \"tenure\": 0.0}, {\"Churn\": 0.0155051964, \"Contract\": 0.0, \"Dependents\": 0.0, \"DeviceProtection\": 0.4663908148, \"InternetService\": 0.6269740734, \"MonthlyCharges\": 1.0, \"MultipleLines\": 0.1823109203, \"OnlineBackup\": 0.4537165039, \"OnlineSecurity\": 0.437779596, \"PaperlessBilling\": 0.0761327079, \"Partner\": 0.0, \"PaymentMethod\": 0.1048562871, \"PhoneService\": 0.0490360826, \"SeniorCitizen\": 0.0210629241, \"StreamingMovies\": 0.5197496666, \"StreamingTV\": 0.5171707879, \"TechSupport\": 0.4397664534, \"TotalCharges\": 0.1429410218, \"customerID\": 0.0, \"gender\": 0.0, \"tenure\": 0.0147864675}, {\"Churn\": 0.0288465234, \"Contract\": 0.0505691789, \"Dependents\": 0.0, \"DeviceProtection\": 0.1893266408, \"InternetService\": 0.2563824421, \"MonthlyCharges\": 0.4437576493, \"MultipleLines\": 1.0, \"OnlineBackup\": 0.1879267116, \"OnlineSecurity\": 0.1341097487, \"PaperlessBilling\": 0.1320780802, \"Partner\": 0.1287266869, \"PaymentMethod\": 0.1107914182, \"PhoneService\": 0.0087481928, \"SeniorCitizen\": 0.0477979722, \"StreamingMovies\": 0.2396386924, \"StreamingTV\": 0.2265571819, \"TechSupport\": 0.1341097487, \"TotalCharges\": 0.2164976829, \"customerID\": 0.0, \"gender\": 0.0, \"tenure\": 0.2210385211}, {\"Churn\": 0.0485196635, \"Contract\": 0.1498846928, \"Dependents\": 0.0199609516, \"DeviceProtection\": 0.5115110038, \"InternetService\": 0.265015207, \"MonthlyCharges\": 0.4509510308, \"MultipleLines\": 0.0574830844, \"OnlineBackup\": 1.0, \"OnlineSecurity\": 0.5068343579, \"PaperlessBilling\": 0.0, \"Partner\": 0.0702702882, \"PaymentMethod\": 0.2154331823, \"PhoneService\": 0.0, \"SeniorCitizen\": 0.0, \"StreamingMovies\": 0.4090809186, \"StreamingTV\": 0.4793627661, \"TechSupport\": 0.5054595934, \"TotalCharges\": 0.2234180986, \"customerID\": 0.0, \"gender\": 0.0, \"tenure\": 0.1707480397}, {\"Churn\": 0.0, \"Contract\": 0.1764578388, \"Dependents\": 0.0, \"DeviceProtection\": 0.3637070964, \"InternetService\": 0.3637070964, \"MonthlyCharges\": 0.4695589426, \"MultipleLines\": 0.0, \"OnlineBackup\": 0.3637070964, \"OnlineSecurity\": 1.0, \"PaperlessBilling\": 0.0962149249, \"Partner\": 0.0, \"PaymentMethod\": 0.0963004375, \"PhoneService\": 0.0, \"SeniorCitizen\": 0.0, \"StreamingMovies\": 0.3637070964, \"StreamingTV\": 0.3637070964, \"TechSupport\": 0.5744394414, \"TotalCharges\": 0.1849172164, \"customerID\": 0.0, \"gender\": 0.0, \"tenure\": 0.1219420054}, {\"Churn\": 0.0, \"Contract\": 0.1274009877, \"Dependents\": 0.0, \"DeviceProtection\": 0.2786642382, \"InternetService\": 0.2786642382, \"MonthlyCharges\": 0.1560893649, \"MultipleLines\": 0.0, \"OnlineBackup\": 0.2786642382, \"OnlineSecurity\": 0.2786642382, \"PaperlessBilling\": 1.0, \"Partner\": 0.0, \"PaymentMethod\": 0.1778948999, \"PhoneService\": 0.0, \"SeniorCitizen\": 0.0, \"StreamingMovies\": 0.2786642382, \"StreamingTV\": 0.2786642382, \"TechSupport\": 0.2786642382, \"TotalCharges\": 0.0293163758, \"customerID\": 0.0, \"gender\": 0.0, \"tenure\": 0.0}, {\"Churn\": 0.0675211645, \"Contract\": 0.2723563025, \"Dependents\": 0.3973222453, \"DeviceProtection\": 0.1290888024, \"InternetService\": 0.0, \"MonthlyCharges\": 0.0670768213, \"MultipleLines\": 0.1365725085, \"OnlineBackup\": 0.1058614683, \"OnlineSecurity\": 0.0842109539, \"PaperlessBilling\": 0.0, \"Partner\": 1.0, \"PaymentMethod\": 0.1507202452, \"PhoneService\": 0.0, \"SeniorCitizen\": 0.0, \"StreamingMovies\": 0.0847824786, \"StreamingTV\": 0.0861691191, \"TechSupport\": 0.0701063261, \"TotalCharges\": 0.1398462327, \"customerID\": 0.0, \"gender\": 0.0, \"tenure\": 0.287850986}, {\"Churn\": 0.0, \"Contract\": 0.0366914345, \"Dependents\": 0.0, \"DeviceProtection\": 0.0423923606, \"InternetService\": 0.0424753132, \"MonthlyCharges\": 0.0988266243, \"MultipleLines\": 0.0, \"OnlineBackup\": 0.0423923606, \"OnlineSecurity\": 0.1499214164, \"PaperlessBilling\": 0.0110868026, \"Partner\": 0.0, \"PaymentMethod\": 1.0, \"PhoneService\": 0.0, \"SeniorCitizen\": 0.0, \"StreamingMovies\": 0.0423923606, \"StreamingTV\": 0.0423923606, \"TechSupport\": 0.1476073977, \"TotalCharges\": 0.0429724677, \"customerID\": 0.0, \"gender\": 0.0, \"tenure\": 0.0640630674}, {\"Churn\": 0.0, \"Contract\": 0.0, \"Dependents\": 0.0, \"DeviceProtection\": 0.0, \"InternetService\": 0.0, \"MonthlyCharges\": 0.3653999151, \"MultipleLines\": 1.0, \"OnlineBackup\": 0.0, \"OnlineSecurity\": 0.0, \"PaperlessBilling\": 0.0, \"Partner\": 0.0, \"PaymentMethod\": 0.0, \"PhoneService\": 1.0, \"SeniorCitizen\": 0.0, \"StreamingMovies\": 0.0, \"StreamingTV\": 0.0, \"TechSupport\": 0.0, \"TotalCharges\": 0.0, \"customerID\": 0.0, \"gender\": 0.0, \"tenure\": 0.0}, {\"Churn\": 0.0, \"Contract\": 0.0, \"Dependents\": 0.0, \"DeviceProtection\": 0.0, \"InternetService\": 0.0, \"MonthlyCharges\": 0.0, \"MultipleLines\": 0.0, \"OnlineBackup\": 0.0, \"OnlineSecurity\": 0.0, \"PaperlessBilling\": 0.0, \"Partner\": 0.0, \"PaymentMethod\": 0.0, \"PhoneService\": 0.0, \"SeniorCitizen\": 1.0, \"StreamingMovies\": 0.0, \"StreamingTV\": 0.0, \"TechSupport\": 0.0, \"TotalCharges\": 0.0, \"customerID\": 0.0, \"gender\": 0.0, \"tenure\": 0.0}, {\"Churn\": 0.0, \"Contract\": 0.1049768249, \"Dependents\": 0.0, \"DeviceProtection\": 0.5567937336, \"InternetService\": 0.4823879927, \"MonthlyCharges\": 0.5899032935, \"MultipleLines\": 0.0962139232, \"OnlineBackup\": 0.4630095111, \"OnlineSecurity\": 0.4040295423, \"PaperlessBilling\": 0.0, \"Partner\": 0.0505093989, \"PaymentMethod\": 0.0, \"PhoneService\": 0.0, \"SeniorCitizen\": 0.0, \"StreamingMovies\": 1.0, \"StreamingTV\": 0.6480245976, \"TechSupport\": 0.4694678485, \"TotalCharges\": 0.2336804952, \"customerID\": 0.0, \"gender\": 0.0, \"tenure\": 0.1055141086}, {\"Churn\": 0.0, \"Contract\": 0.0974793257, \"Dependents\": 0.0, \"DeviceProtection\": 0.5485548833, \"InternetService\": 0.4741449045, \"MonthlyCharges\": 0.5777882901, \"MultipleLines\": 0.0777469705, \"OnlineBackup\": 0.4715578786, \"OnlineSecurity\": 0.4019689792, \"PaperlessBilling\": 0.0, \"Partner\": 0.0446879291, \"PaymentMethod\": 0.0, \"PhoneService\": 0.0, \"SeniorCitizen\": 0.0, \"StreamingMovies\": 0.6448033733, \"StreamingTV\": 1.0, \"TechSupport\": 0.4725211792, \"TotalCharges\": 0.2400092149, \"customerID\": 0.0, \"gender\": 0.0, \"tenure\": 0.1023917455}, {\"Churn\": 0.0, \"Contract\": 0.182811669, \"Dependents\": 0.0, \"DeviceProtection\": 0.4033876991, \"InternetService\": 0.3620171592, \"MonthlyCharges\": 0.480677277, \"MultipleLines\": 0.0, \"OnlineBackup\": 0.3620171592, \"OnlineSecurity\": 0.5719422617, \"PaperlessBilling\": 0.0794107649, \"Partner\": 0.0, \"PaymentMethod\": 0.0869787039, \"PhoneService\": 0.0, \"SeniorCitizen\": 0.0, \"StreamingMovies\": 0.3620171592, \"StreamingTV\": 0.3620171592, \"TechSupport\": 1.0, \"TotalCharges\": 0.2235897117, \"customerID\": 0.0, \"gender\": 0.0, \"tenure\": 0.1224221766}, {\"Churn\": 0.0, \"Contract\": 0.0632604623, \"Dependents\": 0.0, \"DeviceProtection\": 0.165611143, \"InternetService\": 0.0764167278, \"MonthlyCharges\": 0.2251323666, \"MultipleLines\": 0.0869143594, \"OnlineBackup\": 0.1647153826, \"OnlineSecurity\": 0.1176094682, \"PaperlessBilling\": 0.0, \"Partner\": 0.003152877, \"PaymentMethod\": 0.0300168146, \"PhoneService\": 0.0, \"SeniorCitizen\": 0.0, \"StreamingMovies\": 0.1588941341, \"StreamingTV\": 0.1586684868, \"TechSupport\": 0.1278112974, \"TotalCharges\": 1.0, \"customerID\": 0.0, \"gender\": 0.0, \"tenure\": 0.5124829053}, {\"Churn\": 0.0, \"Contract\": 0.0, \"Dependents\": 0.0, \"DeviceProtection\": 0.0, \"InternetService\": 0.0, \"MonthlyCharges\": 0.0, \"MultipleLines\": 0.0, \"OnlineBackup\": 0.0, \"OnlineSecurity\": 0.0, \"PaperlessBilling\": 0.0, \"Partner\": 0.0, \"PaymentMethod\": 0.0, \"PhoneService\": 0.0, \"SeniorCitizen\": 0.0, \"StreamingMovies\": 0.0, \"StreamingTV\": 0.0, \"TechSupport\": 0.0, \"TotalCharges\": 0.0, \"customerID\": 1.0, \"gender\": 0.0, \"tenure\": 0.0}, {\"Churn\": 0.0, \"Contract\": 0.0, \"Dependents\": 0.0, \"DeviceProtection\": 0.0, \"InternetService\": 0.0, \"MonthlyCharges\": 0.0055081711, \"MultipleLines\": 0.0, \"OnlineBackup\": 0.0, \"OnlineSecurity\": 0.0, \"PaperlessBilling\": 0.0, \"Partner\": 0.0, \"PaymentMethod\": 0.0, \"PhoneService\": 0.0, \"SeniorCitizen\": 0.0, \"StreamingMovies\": 0.0, \"StreamingTV\": 0.0, \"TechSupport\": 0.0, \"TotalCharges\": 0.0331515813, \"customerID\": 0.0, \"gender\": 1.0, \"tenure\": 0.0}, {\"Churn\": 0.0831563372, \"Contract\": 0.3115675253, \"Dependents\": 0.0122807487, \"DeviceProtection\": 0.0950407104, \"InternetService\": 0.0, \"MonthlyCharges\": 0.0022973639, \"MultipleLines\": 0.0721207752, \"OnlineBackup\": 0.0947903946, \"OnlineSecurity\": 0.067200671, \"PaperlessBilling\": 0.0, \"Partner\": 0.0907658953, \"PaymentMethod\": 0.1021970096, \"PhoneService\": 0.0, \"SeniorCitizen\": 0.0, \"StreamingMovies\": 0.0536290799, \"StreamingTV\": 0.0536154871, \"TechSupport\": 0.0674147354, \"TotalCharges\": 0.5151383513, \"customerID\": 0.0, \"gender\": 0.0, \"tenure\": 1.0}], \"HasBasicStats\": 1, \"functionsApplied\": [{\"functionName\": \"sortData\", \"applyOn\": [{\"columnName\": \"TotalCharges\", \"type\": \"real\", \"min\": \"18.8\", \"max\": \"8684.8\", \"mean\": \"2283.3\"}], \"functionsData\": [{\"column\": [{\"columnName\": \"TotalCharges\", \"type\": \"real\", \"min\": \"18.8\", \"max\": \"8684.8\", \"mean\": \"2283.3\"}], \"order\": \"asc\"}]}], \"functionChanges\": [{\"columnName\": \"TotalCharges\", \"functionName\": \"sortData\", \"Type\": \"real\", \"Parameters\": [{\"column\": [{\"columnName\": \"TotalCharges\", \"type\": \"real\", \"min\": \"18.8\", \"max\": \"8684.8\", \"mean\": \"2283.3\"}], \"order\": \"asc\"}]}], \"fileheader\": [{\"field\": \"customerID\", \"alias\": \"customerID\", \"generated\": 0, \"position\": 1, \"type\": \"String\"}, {\"field\": \"gender\", \"alias\": \"gender\", \"generated\": 0, \"position\": 2, \"type\": \"String\"}, {\"field\": \"SeniorCitizen\", \"alias\": \"SeniorCitizen\", \"generated\": 0, \"position\": 3, \"type\": \"numeric\"}, {\"field\": \"Partner\", \"alias\": \"Partner\", \"generated\": 0, \"position\": 4, \"type\": \"String\"}, {\"field\": \"Dependents\", \"alias\": \"Dependents\", \"generated\": 0, \"position\": 5, \"type\": \"String\"}, {\"field\": \"tenure\", \"alias\": \"tenure\", \"generated\": 0, \"position\": 6, \"type\": \"numeric\"}, {\"field\": \"PhoneService\", \"alias\": \"PhoneService\", \"generated\": 0, \"position\": 7, \"type\": \"String\"}, {\"field\": \"MultipleLines\", \"alias\": \"MultipleLines\", \"generated\": 0, \"position\": 8, \"type\": \"String\"}, {\"field\": \"InternetService\", \"alias\": \"InternetService\", \"generated\": 0, \"position\": 9, \"type\": \"String\"}, {\"field\": \"OnlineSecurity\", \"alias\": \"OnlineSecurity\", \"generated\": 0, \"position\": 10, \"type\": \"String\"}, {\"field\": \"OnlineBackup\", \"alias\": \"OnlineBackup\", \"generated\": 0, \"position\": 11, \"type\": \"String\"}, {\"field\": \"DeviceProtection\", \"alias\": \"DeviceProtection\", \"generated\": 0, \"position\": 12, \"type\": \"String\"}, {\"field\": \"TechSupport\", \"alias\": \"TechSupport\", \"generated\": 0, \"position\": 13, \"type\": \"String\"}, {\"field\": \"StreamingTV\", \"alias\": \"StreamingTV\", \"generated\": 0, \"position\": 14, \"type\": \"String\"}, {\"field\": \"StreamingMovies\", \"alias\": \"StreamingMovies\", \"generated\": 0, \"position\": 15, \"type\": \"String\"}, {\"field\": \"Contract\", \"alias\": \"Contract\", \"generated\": 0, \"position\": 16, \"type\": \"String\"}, {\"field\": \"PaperlessBilling\", \"alias\": \"PaperlessBilling\", \"generated\": 0, \"position\": 17, \"type\": \"String\"}, {\"field\": \"PaymentMethod\", \"alias\": \"PaymentMethod\", \"generated\": 0, \"position\": 18, \"type\": \"String\"}, {\"field\": \"MonthlyCharges\", \"alias\": \"MonthlyCharges\", \"generated\": 0, \"position\": 19, \"type\": \"real\"}, {\"field\": \"TotalCharges\", \"alias\": \"TotalCharges\", \"generated\": 0, \"position\": 20, \"type\": \"real\"}, {\"field\": \"Churn\", \"alias\": \"Churn\", \"generated\": 0, \"position\": 21, \"type\": \"String\"}]}))\n",
    "\t#operationPostExecutionHook(datapreparation)\n",
    "\n",
    "except Exception as ex: \n",
    "\tlogging.error(ex)\n"
   ]
  },
  {
   "cell_type": "markdown",
   "id": "905b779d",
   "metadata": {},
   "source": [
    "***WRITING DATAFRAME***"
   ]
  },
  {
   "cell_type": "code",
   "execution_count": null,
   "id": "dfa64d30",
   "metadata": {},
   "outputs": [],
   "source": [
    "#%run classificationdataHooks.ipynb\n",
    "try:\n",
    "\t#sinkPreExecutionHook()\n",
    "\n",
    "\ttestresultsoutput = NumtraConnector.fetch(spark, \"{'samplefile': '/FileStore/platform/sampleData/66472aafa83910f2427cc46e/part-00000-1dc78a07-8087-4ab0-a178-fc153d4f192f-c000.csv', 'samplecount': 736, 'originalcount': 7043, 'orignalKey': '/FileStore/platform/testdata/1715325972082_Telco_Customer_Churn_History.csv', 'pathOnly': '/DNM_TESTING 9th May/Test_results', 'project_id': '663c948ebc62e3f208c799d1', 'parent_id': '663c948ebc62e3f208c799d1', 'original_schema': [{'checked': True, 'inherited': True, 'is_categorical': False, 'bad_values': '', 'nullable': 'true', 'field': 'customerID', 'alias': 'customerID', 'type': 'String', 'position': '0'}, {'checked': True, 'inherited': True, 'is_categorical': False, 'bad_values': '', 'nullable': 'true', 'field': 'gender', 'alias': 'gender', 'type': 'String', 'position': '1'}, {'checked': True, 'inherited': True, 'is_categorical': False, 'bad_values': '', 'nullable': 'true', 'field': 'SeniorCitizen', 'alias': 'SeniorCitizen', 'type': 'numeric', 'position': '2'}, {'checked': True, 'inherited': True, 'is_categorical': False, 'bad_values': '', 'nullable': 'true', 'field': 'Partner', 'alias': 'Partner', 'type': 'String', 'position': '3'}, {'checked': True, 'inherited': True, 'is_categorical': False, 'bad_values': '', 'nullable': 'true', 'field': 'Dependents', 'alias': 'Dependents', 'type': 'String', 'position': '4'}, {'checked': True, 'inherited': True, 'is_categorical': False, 'bad_values': '', 'nullable': 'true', 'field': 'tenure', 'alias': 'tenure', 'type': 'numeric', 'position': '5'}, {'checked': True, 'inherited': True, 'is_categorical': False, 'bad_values': '', 'nullable': 'true', 'field': 'PhoneService', 'alias': 'PhoneService', 'type': 'String', 'position': '6'}, {'checked': True, 'inherited': True, 'is_categorical': False, 'bad_values': '', 'nullable': 'true', 'field': 'MultipleLines', 'alias': 'MultipleLines', 'type': 'String', 'position': '7'}, {'checked': True, 'inherited': True, 'is_categorical': False, 'bad_values': '', 'nullable': 'true', 'field': 'InternetService', 'alias': 'InternetService', 'type': 'String', 'position': '8'}, {'checked': True, 'inherited': True, 'is_categorical': False, 'bad_values': '', 'nullable': 'true', 'field': 'OnlineSecurity', 'alias': 'OnlineSecurity', 'type': 'String', 'position': '9'}, {'checked': True, 'inherited': True, 'is_categorical': False, 'bad_values': '', 'nullable': 'true', 'field': 'OnlineBackup', 'alias': 'OnlineBackup', 'type': 'String', 'position': '10'}, {'checked': True, 'inherited': True, 'is_categorical': False, 'bad_values': '', 'nullable': 'true', 'field': 'DeviceProtection', 'alias': 'DeviceProtection', 'type': 'String', 'position': '11'}, {'checked': True, 'inherited': True, 'is_categorical': False, 'bad_values': '', 'nullable': 'true', 'field': 'TechSupport', 'alias': 'TechSupport', 'type': 'String', 'position': '12'}, {'checked': True, 'inherited': True, 'is_categorical': False, 'bad_values': '', 'nullable': 'true', 'field': 'StreamingTV', 'alias': 'StreamingTV', 'type': 'String', 'position': '13'}, {'checked': True, 'inherited': True, 'is_categorical': False, 'bad_values': '', 'nullable': 'true', 'field': 'StreamingMovies', 'alias': 'StreamingMovies', 'type': 'String', 'position': '14'}, {'checked': True, 'inherited': True, 'is_categorical': False, 'bad_values': '', 'nullable': 'true', 'field': 'Contract', 'alias': 'Contract', 'type': 'String', 'position': '15'}, {'checked': True, 'inherited': True, 'is_categorical': False, 'bad_values': '', 'nullable': 'true', 'field': 'PaperlessBilling', 'alias': 'PaperlessBilling', 'type': 'String', 'position': '16'}, {'checked': True, 'inherited': True, 'is_categorical': False, 'bad_values': '', 'nullable': 'true', 'field': 'PaymentMethod', 'alias': 'PaymentMethod', 'type': 'String', 'position': '17'}, {'checked': True, 'inherited': True, 'is_categorical': False, 'bad_values': '', 'nullable': 'true', 'field': 'MonthlyCharges', 'alias': 'MonthlyCharges', 'type': 'real', 'position': '18'}, {'checked': True, 'inherited': True, 'is_categorical': False, 'bad_values': '', 'nullable': 'true', 'field': 'TotalCharges', 'alias': 'TotalCharges', 'type': 'real', 'position': '19'}, {'checked': True, 'inherited': True, 'is_categorical': False, 'bad_values': '', 'nullable': 'true', 'field': 'Churn', 'alias': 'Churn', 'type': 'String', 'position': '20'}], 'actual_schema': [{'checked': True, 'inherited': True, 'is_categorical': False, 'bad_values': '', 'nullable': 'true', 'field': 'customerID', 'alias': 'customerID', 'type': 'String', 'position': '0'}, {'checked': True, 'inherited': True, 'is_categorical': False, 'bad_values': '', 'nullable': 'true', 'field': 'gender', 'alias': 'gender', 'type': 'String', 'position': '1'}, {'checked': True, 'inherited': True, 'is_categorical': False, 'bad_values': '', 'nullable': 'true', 'field': 'SeniorCitizen', 'alias': 'SeniorCitizen', 'type': 'numeric', 'position': '2'}, {'checked': True, 'inherited': True, 'is_categorical': False, 'bad_values': '', 'nullable': 'true', 'field': 'Partner', 'alias': 'Partner', 'type': 'String', 'position': '3'}, {'checked': True, 'inherited': True, 'is_categorical': False, 'bad_values': '', 'nullable': 'true', 'field': 'Dependents', 'alias': 'Dependents', 'type': 'String', 'position': '4'}, {'checked': True, 'inherited': True, 'is_categorical': False, 'bad_values': '', 'nullable': 'true', 'field': 'tenure', 'alias': 'tenure', 'type': 'numeric', 'position': '5'}, {'checked': True, 'inherited': True, 'is_categorical': False, 'bad_values': '', 'nullable': 'true', 'field': 'PhoneService', 'alias': 'PhoneService', 'type': 'String', 'position': '6'}, {'checked': True, 'inherited': True, 'is_categorical': False, 'bad_values': '', 'nullable': 'true', 'field': 'MultipleLines', 'alias': 'MultipleLines', 'type': 'String', 'position': '7'}, {'checked': True, 'inherited': True, 'is_categorical': False, 'bad_values': '', 'nullable': 'true', 'field': 'InternetService', 'alias': 'InternetService', 'type': 'String', 'position': '8'}, {'checked': True, 'inherited': True, 'is_categorical': False, 'bad_values': '', 'nullable': 'true', 'field': 'OnlineSecurity', 'alias': 'OnlineSecurity', 'type': 'String', 'position': '9'}, {'checked': True, 'inherited': True, 'is_categorical': False, 'bad_values': '', 'nullable': 'true', 'field': 'OnlineBackup', 'alias': 'OnlineBackup', 'type': 'String', 'position': '10'}, {'checked': True, 'inherited': True, 'is_categorical': False, 'bad_values': '', 'nullable': 'true', 'field': 'DeviceProtection', 'alias': 'DeviceProtection', 'type': 'String', 'position': '11'}, {'checked': True, 'inherited': True, 'is_categorical': False, 'bad_values': '', 'nullable': 'true', 'field': 'TechSupport', 'alias': 'TechSupport', 'type': 'String', 'position': '12'}, {'checked': True, 'inherited': True, 'is_categorical': False, 'bad_values': '', 'nullable': 'true', 'field': 'StreamingTV', 'alias': 'StreamingTV', 'type': 'String', 'position': '13'}, {'checked': True, 'inherited': True, 'is_categorical': False, 'bad_values': '', 'nullable': 'true', 'field': 'StreamingMovies', 'alias': 'StreamingMovies', 'type': 'String', 'position': '14'}, {'checked': True, 'inherited': True, 'is_categorical': False, 'bad_values': '', 'nullable': 'true', 'field': 'Contract', 'alias': 'Contract', 'type': 'String', 'position': '15'}, {'checked': True, 'inherited': True, 'is_categorical': False, 'bad_values': '', 'nullable': 'true', 'field': 'PaperlessBilling', 'alias': 'PaperlessBilling', 'type': 'String', 'position': '16'}, {'checked': True, 'inherited': True, 'is_categorical': False, 'bad_values': '', 'nullable': 'true', 'field': 'PaymentMethod', 'alias': 'PaymentMethod', 'type': 'String', 'position': '17'}, {'checked': True, 'inherited': True, 'is_categorical': False, 'bad_values': '', 'nullable': 'true', 'field': 'MonthlyCharges', 'alias': 'MonthlyCharges', 'type': 'real', 'position': '18'}, {'checked': True, 'inherited': True, 'is_categorical': False, 'bad_values': '', 'nullable': 'true', 'field': 'TotalCharges', 'alias': 'TotalCharges', 'type': 'real', 'position': '19'}, {'checked': True, 'inherited': True, 'is_categorical': False, 'bad_values': '', 'nullable': 'true', 'field': 'Churn', 'alias': 'Churn', 'type': 'String', 'position': '20'}], 'server': 'https://dnm.bfirst.ai:443', 'server_url': '/nexusMax/NexusMaxPlatform/uploads/platform/', 'delimiter': ',', 'file_type': 'Delimeted', 'filename': 'DeleteThis.csv', 'token': '', 'domain': '', 'is_header': 'Use Header Line', 'url': '/FileStore/platform/uploadedSourceFiles/part-00000-4e37d94c-d810-41cd-be2d-ca303afc2b5c-c000.csv', 'results_url': 'http://dnm.bfirst.ai:44040/api/read/hdfs'}\")\n",
    "\n",
    "except Exception as ex: \n",
    "\tlogging.error(ex)\n"
   ]
  }
 ],
 "metadata": {},
 "nbformat": 4,
 "nbformat_minor": 5
}
